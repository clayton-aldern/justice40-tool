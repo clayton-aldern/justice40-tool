{
 "cells": [
  {
   "cell_type": "code",
   "execution_count": null,
   "id": "a42b28b6",
   "metadata": {},
   "outputs": [],
   "source": [
    "import numpy as np\n",
    "import pandas as pd\n",
    "import csv\n",
    "import requests\n",
    "import zipfile\n",
    "import os\n",
    "import json\n",
    "from pathlib import Path"
   ]
  },
  {
   "cell_type": "code",
   "execution_count": null,
   "id": "8eaa4523",
   "metadata": {},
   "outputs": [],
   "source": [
    "# Set some global parameters\n",
    "DATA_DIR = Path.cwd().parent / \"data\""
   ]
  },
  {
   "cell_type": "code",
   "execution_count": null,
   "id": "9162899f",
   "metadata": {},
   "outputs": [],
   "source": [
    "# Load CEJST score data \n",
    "# TODO: replace with actual CEJST score data \n",
    "\n",
    "# EJSCREEN_DATA_URL = \"https://gaftp.epa.gov/EJSCREEN/2020/EJSCREEN_2020_StatePctile.csv.zip\"\n",
    "\n",
    "# data_path = Path.cwd().parent / \"data\"\n",
    "\n",
    "# with requests.Session() as s:\n",
    "#     ejscreen_data_path = data_path.joinpath(\"fips_states_2010.csv\")\n"
   ]
  },
  {
   "cell_type": "code",
   "execution_count": null,
   "id": "a82e9482",
   "metadata": {},
   "outputs": [],
   "source": [
    "# Load comparison index (CalEnviroScreen 4)\n",
    "# TODO: Instead of loading a manually-created CSV from the repo, actually download the data and convert it using \n",
    "# Python ETL scripts. Data from https://calenviroscreen-oehha.hub.arcgis.com/#Data, specifically: \n",
    "# https://oehha.ca.gov/media/downloads/calenviroscreen/document/calenviroscreen40resultsdatadictionaryd12021.zip\n",
    "CALENVIROSCREEN_4_CSV_NAME = \"CalEnviroScreen_4.0_2021.csv\"\n",
    "calenviroscreen_data_path = DATA_DIR.joinpath(CALENVIROSCREEN_4_CSV_NAME)\n",
    "\n",
    "calenviroscreen_df = pd.read_csv(calenviroscreen_data_path)\n",
    "\n",
    "calenviroscreen_df.head()"
   ]
  },
  {
   "cell_type": "code",
   "execution_count": null,
   "id": "bb7c3404",
   "metadata": {},
   "outputs": [],
   "source": []
  }
 ],
 "metadata": {
  "kernelspec": {
   "display_name": "Python 3",
   "language": "python",
   "name": "python3"
  },
  "language_info": {
   "codemirror_mode": {
    "name": "ipython",
    "version": 3
   },
   "file_extension": ".py",
   "mimetype": "text/x-python",
   "name": "python",
   "nbconvert_exporter": "python",
   "pygments_lexer": "ipython3",
   "version": "3.7.1"
  }
 },
 "nbformat": 4,
 "nbformat_minor": 5
}
